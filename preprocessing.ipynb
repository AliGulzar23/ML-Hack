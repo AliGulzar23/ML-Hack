{
 "cells": [
  {
   "cell_type": "code",
   "execution_count": 125,
   "id": "4c30bd8f",
   "metadata": {},
   "outputs": [],
   "source": [
    "import pandas as pd\n",
    "import matplotlib.pyplot as plt\n",
    "import seaborn as sns\n",
    "import string\n",
    "from sklearn.feature_extraction.text import CountVectorizer\n",
    "from sklearn.feature_extraction.text import TfidfTransformer\n",
    "%matplotlib inline\n",
    "#get data\n",
    "path = 'dataset\\\\dataset\\\\'\n",
    "fileNames = ['2011Tornado_Summary','2012Sandy_Summary','2013Floods_Summary','2016Blizzard_Summary','2016Matthew_Summary','2017Hurricane_Summary','2018Michael_Summary','2018Wildfires_Summary']\n",
    "#contains all filenames in a list, so dont not have to rewrite names\n",
    "fullPath = path+fileNames[0]+'.csv'\n",
    "tweets = pd.read_csv(fullPath)\n",
    "\n"
   ]
  },
  {
   "cell_type": "code",
   "execution_count": 114,
   "id": "c717ed6e",
   "metadata": {},
   "outputs": [
    {
     "data": {
      "text/plain": [
       "count    3572.000000\n",
       "mean      114.844625\n",
       "std        25.918095\n",
       "min        24.000000\n",
       "25%        98.000000\n",
       "50%       122.000000\n",
       "75%       136.000000\n",
       "max       240.000000\n",
       "Name: wordlen, dtype: float64"
      ]
     },
     "execution_count": 114,
     "metadata": {},
     "output_type": "execute_result"
    }
   ],
   "source": [
    "def stringLen(x):\n",
    "    return len(x)\n",
    "tweets['wordlen'] = tornado2011['text'].apply(lambda x : stringLen(x))\n",
    "tweets['wordlen'].describe() #mean len of words is 114"
   ]
  },
  {
   "cell_type": "code",
   "execution_count": 115,
   "id": "f8f4ecb0",
   "metadata": {},
   "outputs": [
    {
     "data": {
      "text/plain": [
       "array([<AxesSubplot:title={'center':'0'}>,\n",
       "       <AxesSubplot:title={'center':'1'}>], dtype=object)"
      ]
     },
     "execution_count": 115,
     "metadata": {},
     "output_type": "execute_result"
    },
    {
     "data": {
      "image/png": "[encoded data removed]",
      "text/plain": [
       "<Figure size 432x288 with 2 Axes>"
      ]
     },
     "metadata": {
      "needs_background": "light"
     },
     "output_type": "display_data"
    }
   ],
   "source": [
    "tweets.hist(column = 'wordlen', by = 'label', bins = 50) #word lenght does not matter when checking the comparisons"
   ]
  },
  {
   "cell_type": "code",
   "execution_count": 116,
   "id": "c7e76666",
   "metadata": {},
   "outputs": [
    {
     "data": {
      "text/plain": [
       "0    [RT, uberdogfound, Please, RT, Food, needed, s...\n",
       "1    [Please, RT, Food, needed, shelter, NC, area, ...\n",
       "2    [‚ô°its, raining, tornado, warningsabout, coma...\n",
       "3    [Lmao, damn, RT, LuCeCaNNoNn, dont, get, food,...\n",
       "4    [Saved, tornado, warningIm, ready, eat, good, ...\n",
       "Name: text, dtype: object"
      ]
     },
     "execution_count": 116,
     "metadata": {},
     "output_type": "execute_result"
    }
   ],
   "source": [
    "#remove punkjuation\n",
    "\n",
    "from nltk.corpus import stopwords\n",
    "\n",
    "\n",
    "def textProcess(x):\n",
    "    \"\"\"\n",
    "    takes text string, and processes it into only useful words without punchuation or stuff it those kinda \n",
    "    words that dont mean anything\n",
    "    \"\"\"\n",
    "    message = x\n",
    "    removePunchuation = [char for char in message if char not in string.punctuation] #considerations for when or when to not incloude ! as something useful\n",
    "    removePunchuation = ''.join(removePunchuation)\n",
    "    removeWrdEnd = [word for word in removePunchuation.split() if word.lower() not in stopwords.words('english')]\n",
    "    return removeWrdEnd\n",
    "tweets['text'].head(5).apply(textProcess)"
   ]
  },
  {
   "cell_type": "code",
   "execution_count": 87,
   "id": "a4d937f4",
   "metadata": {},
   "outputs": [],
   "source": [
    "#it used the bad of words model"
   ]
  },
  {
   "cell_type": "code",
   "execution_count": 93,
   "id": "8680670f",
   "metadata": {},
   "outputs": [
    {
     "name": "stdout",
     "output_type": "stream",
     "text": [
      "9934\n"
     ]
    }
   ],
   "source": [
    "bow_transformer = CountVectorizer(analyzer=textProcess).fit(tornado2011['text'])\n",
    "print(len(bow_transformer.vocabulary_))"
   ]
  },
  {
   "cell_type": "code",
   "execution_count": 117,
   "id": "16900d2f",
   "metadata": {},
   "outputs": [
    {
     "name": "stdout",
     "output_type": "stream",
     "text": [
      "  (0, 2107)\t1\n",
      "  (0, 2151)\t1\n",
      "  (0, 2817)\t1\n",
      "  (0, 3170)\t1\n",
      "  (0, 4350)\t1\n",
      "  (0, 4967)\t1\n",
      "  (0, 5149)\t1\n",
      "  (0, 5563)\t2\n",
      "  (0, 5707)\t1\n",
      "  (0, 5999)\t1\n",
      "  (0, 7391)\t1\n",
      "  (0, 9119)\t1\n",
      "  (0, 9777)\t2\n",
      "(1, 9934)\n"
     ]
    }
   ],
   "source": [
    "#use bow to transform messages from dataframe "
   ]
  },
  {
   "cell_type": "code",
   "execution_count": 122,
   "id": "149a8f5c",
   "metadata": {},
   "outputs": [
    {
     "name": "stdout",
     "output_type": "stream",
     "text": [
      "sparse matrix shape (3572, 9934)\n",
      "amount of zer-occurences (3572, 9934)\n"
     ]
    }
   ],
   "source": [
    "tweets_bow = bow_transformer.transform(tweets['text'])\n",
    "#transform it into a sparse matrix\n",
    "print('sparse matrix shape',tweets_bow.shape)\n",
    "print('amount of zer-occurences',tweets_bow.shape)"
   ]
  },
  {
   "cell_type": "code",
   "execution_count": 124,
   "id": "cc972359",
   "metadata": {},
   "outputs": [],
   "source": [
    "#some sparisty stuff heere"
   ]
  },
  {
   "cell_type": "code",
   "execution_count": 129,
   "id": "d60dd4cc",
   "metadata": {},
   "outputs": [
    {
     "name": "stdout",
     "output_type": "stream",
     "text": [
      "  (0, 9777)\t0.5095329139106146\n",
      "  (0, 9119)\t0.05691899064932606\n",
      "  (0, 7391)\t0.3437503843757557\n",
      "  (0, 5999)\t0.19919026900798922\n",
      "  (0, 5707)\t0.15357327932555756\n",
      "  (0, 5563)\t0.2606133600547072\n",
      "  (0, 5149)\t0.1964342173523837\n",
      "  (0, 4967)\t0.23021896877036022\n",
      "  (0, 4350)\t0.25953647327694973\n",
      "  (0, 3170)\t0.3437503843757557\n",
      "  (0, 2817)\t0.11188862273994998\n",
      "  (0, 2151)\t0.3437503843757557\n",
      "  (0, 2107)\t0.28283776065490934\n"
     ]
    }
   ],
   "source": [
    "#using tfidf to do frequency\n",
    "tf_transformer = TfidfTransformer().fit(tweets_bow)\n",
    "tf4 = tf_transformer.transform(bow4)\n",
    "print(tf4)"
   ]
  },
  {
   "cell_type": "code",
   "execution_count": 135,
   "id": "a886ed70",
   "metadata": {},
   "outputs": [
    {
     "name": "stdout",
     "output_type": "stream",
     "text": [
      "7.101719316343574\n"
     ]
    }
   ],
   "source": [
    "#can now check frequency of words\n",
    "word = 'stupid'\n",
    "print(tf_transformer.idf_[bow_transformer.vocabulary_[word]])\n"
   ]
  },
  {
   "cell_type": "code",
   "execution_count": 137,
   "id": "59b3ac2a",
   "metadata": {},
   "outputs": [
    {
     "name": "stdout",
     "output_type": "stream",
     "text": [
      "(3572, 9934)\n"
     ]
    }
   ],
   "source": [
    "tweets_tf = tf_transformer.transform(tweets_bow)\n",
    "print(tweets_tf.shape)"
   ]
  },
  {
   "cell_type": "code",
   "execution_count": null,
   "id": "e0418f85",
   "metadata": {},
   "outputs": [],
   "source": [
    "#use this for the classifications or something. "
   ]
  }
 ],
 "metadata": {
  "kernelspec": {
   "display_name": "Python 3",
   "language": "python",
   "name": "python3"
  },
  "language_info": {
   "codemirror_mode": {
    "name": "ipython",
    "version": 3
   },
   "file_extension": ".py",
   "mimetype": "text/x-python",
   "name": "python",
   "nbconvert_exporter": "python",
   "pygments_lexer": "ipython3",
   "version": "3.8.8"
  }
 },
 "nbformat": 4,
 "nbformat_minor": 5
}
